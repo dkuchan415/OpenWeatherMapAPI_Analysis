{
 "cells": [
  {
   "cell_type": "markdown",
   "metadata": {},
   "source": [
    "# VacationPy\n",
    "----\n",
    "\n",
    "#### Note\n",
    "* Keep an eye on your API usage. Use https://developers.google.com/maps/reporting/gmp-reporting as reference for how to monitor your usage and billing.\n",
    "\n",
    "* Instructions have been included for each segment. You do not have to follow them exactly, but they are included to help you think through the steps."
   ]
  },
  {
   "cell_type": "code",
   "execution_count": 42,
   "metadata": {},
   "outputs": [],
   "source": [
    "# Dependencies and Setup\n",
    "import matplotlib.pyplot as plt\n",
    "import pandas as pd\n",
    "import numpy as np\n",
    "import requests\n",
    "import gmaps\n",
    "import os\n",
    "import gmaps.datasets\n",
    "\n",
    "# Import API key\n",
    "from api_keys import g_key"
   ]
  },
  {
   "cell_type": "markdown",
   "metadata": {},
   "source": [
    "### Store Part I results into DataFrame\n",
    "* Load the csv exported in Part I to a DataFrame"
   ]
  },
  {
   "cell_type": "code",
   "execution_count": 43,
   "metadata": {},
   "outputs": [
    {
     "data": {
      "text/html": [
       "<div>\n",
       "<style scoped>\n",
       "    .dataframe tbody tr th:only-of-type {\n",
       "        vertical-align: middle;\n",
       "    }\n",
       "\n",
       "    .dataframe tbody tr th {\n",
       "        vertical-align: top;\n",
       "    }\n",
       "\n",
       "    .dataframe thead th {\n",
       "        text-align: right;\n",
       "    }\n",
       "</style>\n",
       "<table border=\"1\" class=\"dataframe\">\n",
       "  <thead>\n",
       "    <tr style=\"text-align: right;\">\n",
       "      <th></th>\n",
       "      <th>City</th>\n",
       "      <th>Lat</th>\n",
       "      <th>Lng</th>\n",
       "      <th>Max Temp</th>\n",
       "      <th>Humidity</th>\n",
       "      <th>Cloudiness</th>\n",
       "      <th>Wind Speed</th>\n",
       "      <th>Date</th>\n",
       "    </tr>\n",
       "  </thead>\n",
       "  <tbody>\n",
       "    <tr>\n",
       "      <th>0</th>\n",
       "      <td>Lavrentiya</td>\n",
       "      <td>65.58</td>\n",
       "      <td>-171.00</td>\n",
       "      <td>39.61</td>\n",
       "      <td>92</td>\n",
       "      <td>100</td>\n",
       "      <td>30.00</td>\n",
       "      <td>1602870659</td>\n",
       "    </tr>\n",
       "    <tr>\n",
       "      <th>1</th>\n",
       "      <td>Nikolskoye</td>\n",
       "      <td>59.70</td>\n",
       "      <td>30.79</td>\n",
       "      <td>41.00</td>\n",
       "      <td>65</td>\n",
       "      <td>90</td>\n",
       "      <td>6.71</td>\n",
       "      <td>1602870660</td>\n",
       "    </tr>\n",
       "    <tr>\n",
       "      <th>2</th>\n",
       "      <td>Butaritari</td>\n",
       "      <td>3.07</td>\n",
       "      <td>172.79</td>\n",
       "      <td>81.46</td>\n",
       "      <td>75</td>\n",
       "      <td>17</td>\n",
       "      <td>13.60</td>\n",
       "      <td>1602870661</td>\n",
       "    </tr>\n",
       "    <tr>\n",
       "      <th>3</th>\n",
       "      <td>Mahébourg</td>\n",
       "      <td>-20.41</td>\n",
       "      <td>57.70</td>\n",
       "      <td>73.40</td>\n",
       "      <td>78</td>\n",
       "      <td>40</td>\n",
       "      <td>3.36</td>\n",
       "      <td>1602870663</td>\n",
       "    </tr>\n",
       "    <tr>\n",
       "      <th>4</th>\n",
       "      <td>Bismarck</td>\n",
       "      <td>46.81</td>\n",
       "      <td>-100.78</td>\n",
       "      <td>39.00</td>\n",
       "      <td>51</td>\n",
       "      <td>1</td>\n",
       "      <td>14.99</td>\n",
       "      <td>1602870388</td>\n",
       "    </tr>\n",
       "  </tbody>\n",
       "</table>\n",
       "</div>"
      ],
      "text/plain": [
       "         City    Lat     Lng  Max Temp  Humidity  Cloudiness  Wind Speed  \\\n",
       "0  Lavrentiya  65.58 -171.00     39.61        92         100       30.00   \n",
       "1  Nikolskoye  59.70   30.79     41.00        65          90        6.71   \n",
       "2  Butaritari   3.07  172.79     81.46        75          17       13.60   \n",
       "3   Mahébourg -20.41   57.70     73.40        78          40        3.36   \n",
       "4    Bismarck  46.81 -100.78     39.00        51           1       14.99   \n",
       "\n",
       "         Date  \n",
       "0  1602870659  \n",
       "1  1602870660  \n",
       "2  1602870661  \n",
       "3  1602870663  \n",
       "4  1602870388  "
      ]
     },
     "execution_count": 43,
     "metadata": {},
     "output_type": "execute_result"
    }
   ],
   "source": [
    "#use jupyter gmaps\n",
    "\n",
    "file = \"..\\WeatherPy\\output_data\\city_weather.csv\"\n",
    "vaca_df = pd.read_csv(file)\n",
    "vaca_df.head()"
   ]
  },
  {
   "cell_type": "markdown",
   "metadata": {},
   "source": [
    "### Humidity Heatmap\n",
    "* Configure gmaps.\n",
    "* Use the Lat and Lng as locations and Humidity as the weight.\n",
    "* Add Heatmap layer to map."
   ]
  },
  {
   "cell_type": "code",
   "execution_count": 49,
   "metadata": {},
   "outputs": [
    {
     "data": {
      "application/vnd.jupyter.widget-view+json": {
       "model_id": "fb10fbaca744487d9d6686ead71b45cb",
       "version_major": 2,
       "version_minor": 0
      },
      "text/plain": [
       "Figure(layout=FigureLayout(border='1px solid black', height='300px', margin='0 auto 0 auto', padding='1px', wi…"
      ]
     },
     "metadata": {},
     "output_type": "display_data"
    }
   ],
   "source": [
    "#Configure Gmaps\n",
    "\n",
    "gmaps.configure(api_key=g_key)\n",
    "\n",
    "#Create coordinates and humidity list\n",
    "\n",
    "locations = vaca_df[['Lat', 'Lng']].astype(float)\n",
    "\n",
    "humidity = vaca_df['Humidity'].astype(float)\n",
    "\n",
    "#Create for loop to add Lat, Lng, and humidty for each city\n",
    "\n",
    "# cities = vaca_df['City']\n",
    "# city_name = []\n",
    "# lat = []\n",
    "# lng = []\n",
    "# humidity = []\n",
    "\n",
    "# for city in cities:\n",
    "#     city_name.append(vaca_df['City'])\n",
    "#     lat.append(vaca_df['Lat'])\n",
    "#     lng.append(vaca_df['Lng'])\n",
    "#     humidity.append(vaca_df['Humidity'])\n",
    "\n",
    "figure_layout = {\n",
    "    'width': '400px',\n",
    "    'height': '300px',\n",
    "    'border': '1px solid black',\n",
    "    'padding': '1px',\n",
    "    'margin': '0 auto 0 auto'\n",
    "}\n",
    "fig = gmaps.figure(layout=figure_layout)\n",
    "\n",
    "# Assign the marker layer to a variable\n",
    "\n",
    "heat_layer=gmaps.heatmap_layer(locations, humidity, dissipating=True, max_intensity=25, point_radius=2)\n",
    "\n",
    "# Add the layer to the map\n",
    "fig.add_layer(heat_layer)\n",
    "fig"
   ]
  },
  {
   "cell_type": "markdown",
   "metadata": {},
   "source": [
    "### Create new DataFrame fitting weather criteria\n",
    "* Narrow down the cities to fit weather conditions.\n",
    "* Drop any rows will null values."
   ]
  },
  {
   "cell_type": "code",
   "execution_count": 37,
   "metadata": {},
   "outputs": [],
   "source": [
    "#cut unneeded columns\n",
    "vaca_df = vaca_df.dropna(how='any')"
   ]
  },
  {
   "cell_type": "markdown",
   "metadata": {},
   "source": [
    "### Hotel Map\n",
    "* Store into variable named `hotel_df`.\n",
    "* Add a \"Hotel Name\" column to the DataFrame.\n",
    "* Set parameters to search for hotels with 5000 meters.\n",
    "* Hit the Google Places API for each city's coordinates.\n",
    "* Store the first Hotel result into the DataFrame.\n",
    "* Plot markers on top of the heatmap."
   ]
  },
  {
   "cell_type": "code",
   "execution_count": null,
   "metadata": {},
   "outputs": [],
   "source": [
    "#Day 3 activity 4, iterate through df and search for hotel by coordinates\n",
    "\n",
    "#plot markers = name of hotel- use jupyter gmaps\n",
    "\n",
    "# change map options and adjusting\n",
    "\n",
    "#use weighted heat map"
   ]
  },
  {
   "cell_type": "code",
   "execution_count": null,
   "metadata": {},
   "outputs": [],
   "source": []
  },
  {
   "cell_type": "code",
   "execution_count": null,
   "metadata": {},
   "outputs": [],
   "source": [
    "# NOTE: Do not change any of the code in this cell\n",
    "\n",
    "# Using the template add the hotel marks to the heatmap\n",
    "info_box_template = \"\"\"\n",
    "<dl>\n",
    "<dt>Name</dt><dd>{Hotel Name}</dd>\n",
    "<dt>City</dt><dd>{City}</dd>\n",
    "<dt>Country</dt><dd>{Country}</dd>\n",
    "</dl>\n",
    "\"\"\"\n",
    "# Store the DataFrame Row\n",
    "# NOTE: be sure to update with your DataFrame name\n",
    "hotel_info = [info_box_template.format(**row) for index, row in hotel_df.iterrows()]\n",
    "locations = hotel_df[[\"Lat\", \"Lng\"]]"
   ]
  },
  {
   "cell_type": "code",
   "execution_count": null,
   "metadata": {},
   "outputs": [],
   "source": [
    "# Add marker layer ontop of heat map\n",
    "\n",
    "\n",
    "# Display figure\n"
   ]
  },
  {
   "cell_type": "code",
   "execution_count": null,
   "metadata": {},
   "outputs": [],
   "source": []
  }
 ],
 "metadata": {
  "kernelspec": {
   "display_name": "Python 3",
   "language": "python",
   "name": "python3"
  },
  "language_info": {
   "codemirror_mode": {
    "name": "ipython",
    "version": 3
   },
   "file_extension": ".py",
   "mimetype": "text/x-python",
   "name": "python",
   "nbconvert_exporter": "python",
   "pygments_lexer": "ipython3",
   "version": "3.8.3"
  },
  "latex_envs": {
   "LaTeX_envs_menu_present": true,
   "autoclose": false,
   "autocomplete": true,
   "bibliofile": "biblio.bib",
   "cite_by": "apalike",
   "current_citInitial": 1,
   "eqLabelWithNumbers": true,
   "eqNumInitial": 1,
   "hotkeys": {
    "equation": "Ctrl-E",
    "itemize": "Ctrl-I"
   },
   "labels_anchors": false,
   "latex_user_defs": false,
   "report_style_numbering": false,
   "user_envs_cfg": false
  }
 },
 "nbformat": 4,
 "nbformat_minor": 4
}
