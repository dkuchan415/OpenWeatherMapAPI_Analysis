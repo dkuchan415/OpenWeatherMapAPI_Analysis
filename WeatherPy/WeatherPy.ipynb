{
 "cells": [
  {
   "cell_type": "markdown",
   "metadata": {},
   "source": [
    "# WeatherPy\n",
    "----\n",
    "\n",
    "#### Note\n",
    "* Instructions have been included for each segment. You do not have to follow them exactly, but they are included to help you think through the steps."
   ]
  },
  {
   "cell_type": "code",
   "execution_count": 74,
   "metadata": {
    "scrolled": true
   },
   "outputs": [],
   "source": [
    "# Dependencies and Setup\n",
    "import matplotlib.pyplot as plt\n",
    "import pandas as pd\n",
    "import numpy as np\n",
    "import requests\n",
    "import time\n",
    "from scipy.stats import linregress\n",
    "from scipy import stats\n",
    "import seaborn as sns\n",
    "# Import API key\n",
    "from api_keys import weather_api_key\n",
    "# Incorporated citipy to determine city based on latitude and longitude\n",
    "from citipy import citipy\n",
    "# Range of latitudes and longitudes\n",
    "lat_range = (-90, 90)\n",
    "lng_range = (-180, 180)"
   ]
  },
  {
   "cell_type": "markdown",
   "metadata": {},
   "source": [
    "## Generate Cities List"
   ]
  },
  {
   "cell_type": "code",
   "execution_count": 40,
   "metadata": {},
   "outputs": [
    {
     "data": {
      "text/plain": [
       "644"
      ]
     },
     "execution_count": 40,
     "metadata": {},
     "output_type": "execute_result"
    }
   ],
   "source": [
    "# List for holding lat_lngs and cities\n",
    "lat_lngs = []\n",
    "cities = []\n",
    "# Create a set of random lat and lng combinations\n",
    "lats = np.random.uniform(lat_range[0], lat_range[1], size=1500)\n",
    "lngs = np.random.uniform(lng_range[0], lng_range[1], size=1500)\n",
    "lat_lngs = zip(lats, lngs)\n",
    "# Identify nearest city for each lat, lng combination\n",
    "for lat_lng in lat_lngs:\n",
    "    city = citipy.nearest_city(lat_lng[0], lat_lng[1]).city_name\n",
    "    # If the city is unique, then add it to a our cities list\n",
    "    if city not in cities:\n",
    "        cities.append(city)\n",
    "# Print the city count to confirm sufficient count\n",
    "len(cities)"
   ]
  },
  {
   "cell_type": "markdown",
   "metadata": {},
   "source": [
    "### Perform API Calls\n",
    "* Perform a weather check on each city using a series of successive API calls.\n",
    "* Include a print log of each city as it'sbeing processed (with the city number and city name).\n"
   ]
  },
  {
   "cell_type": "code",
   "execution_count": 33,
   "metadata": {
    "scrolled": true
   },
   "outputs": [
    {
     "name": "stdout",
     "output_type": "stream",
     "text": [
      "Beginning Data Retrieval\n",
      "-----------------------------\n",
      "Processing Record 0 of set 1 pitsunda\n",
      "Processing Record 1 of set 1 nikolskoye\n",
      "Processing Record 2 of set 1 ushuaia\n",
      "Processing Record 3 of set 1 bethel\n",
      "Processing Record 4 of set 1 mar del plata\n",
      "Processing Record 5 of set 1 maracacume\n",
      "City not found. Skipping...\n",
      "Processing Record 6 of set 1 rikitea\n",
      "City not found. Skipping...\n",
      "Processing Record 7 of set 1 thompson\n",
      "Processing Record 8 of set 1 kaeo\n",
      "Processing Record 9 of set 1 bredasdorp\n",
      "Processing Record 10 of set 1 port elizabeth\n",
      "Processing Record 11 of set 1 ponta do sol\n",
      "Processing Record 12 of set 1 kapaa\n",
      "Processing Record 13 of set 1 cape town\n",
      "Processing Record 14 of set 1 torbay\n",
      "Processing Record 15 of set 1 kinel\n",
      "Processing Record 16 of set 1 dustlik\n",
      "Processing Record 17 of set 1 cidreira\n",
      "Processing Record 18 of set 1 jamestown\n",
      "Processing Record 19 of set 1 bluff\n",
      "Processing Record 20 of set 1 bollnas\n",
      "Processing Record 21 of set 1 new norfolk\n",
      "Processing Record 22 of set 1 punta arenas\n",
      "Processing Record 23 of set 1 tuatapere\n",
      "Processing Record 24 of set 1 constitucion\n",
      "Processing Record 25 of set 1 barrow\n",
      "Processing Record 26 of set 1 hilo\n",
      "Processing Record 27 of set 1 leavenworth\n",
      "Processing Record 28 of set 1 poli\n",
      "Processing Record 29 of set 1 longyearbyen\n",
      "Processing Record 30 of set 1 gat\n",
      "Processing Record 31 of set 1 tasiilaq\n",
      "Processing Record 32 of set 1 hobart\n",
      "City not found. Skipping...\n",
      "Processing Record 33 of set 1 albany\n",
      "Processing Record 34 of set 1 dikson\n",
      "Processing Record 35 of set 1 mataura\n",
      "Processing Record 36 of set 1 carnarvon\n",
      "Processing Record 37 of set 1 atuona\n",
      "Processing Record 38 of set 1 mbanza-ngungu\n",
      "Processing Record 39 of set 1 maniitsoq\n",
      "Processing Record 40 of set 1 auki\n",
      "Processing Record 41 of set 1 sao filipe\n",
      "Processing Record 42 of set 1 busselton\n",
      "Processing Record 43 of set 1 dunedin\n",
      "Processing Record 44 of set 1 tortoli\n",
      "Processing Record 45 of set 1 ribeira grande\n",
      "Processing Record 46 of set 1 jaciara\n",
      "Processing Record 47 of set 1 petropavlovsk-kamchatskiy\n",
      "Processing Record 48 of set 1 upernavik\n",
      "Processing Record 49 of set 1 kumluca\n",
      "Processing Record 1 of set 2 hanko\n",
      "City not found. Skipping...\n",
      "Processing Record 2 of set 2 hermanus\n",
      "Processing Record 3 of set 2 cabo san lucas\n",
      "City not found. Skipping...\n",
      "Processing Record 4 of set 2 butaritari\n",
      "City not found. Skipping...\n",
      "Processing Record 5 of set 2 norman wells\n",
      "Processing Record 6 of set 2 vaini\n",
      "Processing Record 7 of set 2 sitka\n",
      "Processing Record 8 of set 2 colesberg\n",
      "Processing Record 9 of set 2 vila franca do campo\n",
      "Processing Record 10 of set 2 bungu\n",
      "City not found. Skipping...\n",
      "Processing Record 11 of set 2 mercedes\n",
      "Processing Record 12 of set 2 arraial do cabo\n",
      "Processing Record 13 of set 2 touros\n",
      "Processing Record 14 of set 2 mocuba\n",
      "Processing Record 15 of set 2 urumqi\n",
      "Processing Record 16 of set 2 aksarka\n",
      "Processing Record 17 of set 2 nouakchott\n",
      "City not found. Skipping...\n",
      "Processing Record 18 of set 2 avarua\n",
      "Processing Record 19 of set 2 qaanaaq\n",
      "Processing Record 20 of set 2 georgetown\n",
      "Processing Record 21 of set 2 nosy varika\n",
      "Processing Record 22 of set 2 pisco\n",
      "Processing Record 23 of set 2 linxi\n",
      "Processing Record 24 of set 2 kodiak\n",
      "Processing Record 25 of set 2 ugento\n",
      "Processing Record 26 of set 2 gigmoto\n",
      "Processing Record 27 of set 2 mahebourg\n",
      "Processing Record 28 of set 2 cabedelo\n",
      "Processing Record 29 of set 2 santa isabel do rio negro\n",
      "Processing Record 30 of set 2 port alfred\n",
      "Processing Record 31 of set 2 miri\n",
      "Processing Record 32 of set 2 sarh\n",
      "Processing Record 33 of set 2 inongo\n",
      "Processing Record 34 of set 2 salinas\n",
      "City not found. Skipping...\n",
      "Processing Record 35 of set 2 vanavara\n",
      "Processing Record 36 of set 2 adrar\n",
      "Processing Record 37 of set 2 alcudia\n",
      "Processing Record 38 of set 2 chuy\n",
      "Processing Record 39 of set 2 darnah\n",
      "Processing Record 40 of set 2 ilulissat\n",
      "Processing Record 41 of set 2 hithadhoo\n",
      "Processing Record 42 of set 2 rocha\n",
      "Processing Record 43 of set 2 shimoda\n",
      "Processing Record 44 of set 2 macau\n",
      "Processing Record 45 of set 2 okhotsk\n",
      "Processing Record 46 of set 2 ancud\n",
      "Processing Record 47 of set 2 sorland\n",
      "Processing Record 48 of set 2 vuktyl\n",
      "Processing Record 49 of set 2 pecos\n",
      "Processing Record 1 of set 3 bilma\n",
      "City not found. Skipping...\n",
      "Processing Record 2 of set 3 inzhavino\n",
      "Processing Record 3 of set 3 karaton\n",
      "Processing Record 4 of set 3 tura\n",
      "Processing Record 5 of set 3 saldanha\n",
      "Processing Record 6 of set 3 bozeman\n",
      "Processing Record 7 of set 3 bambous virieux\n",
      "Processing Record 8 of set 3 high prairie\n",
      "Processing Record 9 of set 3 boa vista\n",
      "Processing Record 10 of set 3 kungurtug\n",
      "Processing Record 11 of set 3 takapau\n",
      "City not found. Skipping...\n",
      "Processing Record 12 of set 3 puerto ayora\n",
      "Processing Record 13 of set 3 tarakan\n",
      "Processing Record 14 of set 3 lagoa\n",
      "Processing Record 15 of set 3 flinders\n",
      "Processing Record 16 of set 3 mackay\n",
      "Processing Record 17 of set 3 morondava\n",
      "Processing Record 18 of set 3 batagay-alyta\n",
      "Processing Record 19 of set 3 henties bay\n",
      "Processing Record 20 of set 3 sorong\n",
      "Processing Record 21 of set 3 ano mera\n",
      "Processing Record 22 of set 3 semey\n",
      "City not found. Skipping...\n",
      "Processing Record 23 of set 3 thunder bay\n",
      "Processing Record 24 of set 3 tamiahua\n",
      "Processing Record 25 of set 3 comodoro rivadavia\n",
      "Processing Record 26 of set 3 svetlogorsk\n",
      "City not found. Skipping...\n",
      "Processing Record 27 of set 3 kloulklubed\n",
      "Processing Record 28 of set 3 yulara\n",
      "Processing Record 29 of set 3 oarai\n",
      "Processing Record 30 of set 3 port hardy\n",
      "Processing Record 31 of set 3 yellowknife\n",
      "Processing Record 32 of set 3 goderich\n",
      "Processing Record 33 of set 3 strezhevoy\n",
      "Processing Record 34 of set 3 provideniya\n",
      "Processing Record 35 of set 3 port blair\n",
      "Processing Record 36 of set 3 itarema\n",
      "Processing Record 37 of set 3 kulunda\n",
      "Processing Record 38 of set 3 mount isa\n",
      "City not found. Skipping...\n",
      "Processing Record 39 of set 3 la palma\n",
      "Processing Record 40 of set 3 aras\n",
      "Processing Record 41 of set 3 bambanglipuro\n",
      "Processing Record 42 of set 3 chillicothe\n",
      "Processing Record 43 of set 3 castro\n",
      "Processing Record 44 of set 3 yamada\n",
      "Processing Record 45 of set 3 sao joao da barra\n",
      "Processing Record 46 of set 3 tiznit\n",
      "Processing Record 47 of set 3 corrientes\n",
      "Processing Record 48 of set 3 cholet\n",
      "Processing Record 49 of set 3 beliu\n",
      "Processing Record 1 of set 4 saint anthony\n",
      "Processing Record 2 of set 4 sringeri\n",
      "Processing Record 3 of set 4 havre-saint-pierre\n",
      "Processing Record 4 of set 4 quatre cocos\n",
      "Processing Record 5 of set 4 severo-kurilsk\n",
      "Processing Record 6 of set 4 todos santos\n",
      "Processing Record 7 of set 4 bilibino\n",
      "Processing Record 8 of set 4 east london\n",
      "Processing Record 9 of set 4 guadalupe y calvo\n",
      "Processing Record 10 of set 4 progreso\n",
      "Processing Record 11 of set 4 lebu\n",
      "Processing Record 12 of set 4 nome\n",
      "Processing Record 13 of set 4 inirida\n",
      "Processing Record 14 of set 4 butia\n",
      "Processing Record 15 of set 4 san patricio\n",
      "Processing Record 16 of set 4 xingyi\n",
      "Processing Record 17 of set 4 plettenberg bay\n",
      "Processing Record 18 of set 4 katsuura\n",
      "Processing Record 19 of set 4 vanimo\n",
      "Processing Record 20 of set 4 tilichiki\n",
      "Processing Record 21 of set 4 eyl\n",
      "Processing Record 22 of set 4 saskylakh\n",
      "Processing Record 23 of set 4 mollendo\n",
      "Processing Record 24 of set 4 mount gambier\n",
      "Processing Record 25 of set 4 cuamba\n",
      "Processing Record 26 of set 4 hervey bay\n",
      "Processing Record 27 of set 4 marathon\n",
      "City not found. Skipping...\n",
      "Processing Record 28 of set 4 pelym\n",
      "Processing Record 29 of set 4 bonfim\n",
      "Processing Record 30 of set 4 yelets\n",
      "Processing Record 31 of set 4 svetlyy\n",
      "Processing Record 32 of set 4 cayenne\n",
      "Processing Record 33 of set 4 srednekolymsk\n",
      "Processing Record 34 of set 4 aklavik\n",
      "Processing Record 35 of set 4 lorengau\n",
      "Processing Record 36 of set 4 jeremie\n",
      "Processing Record 37 of set 4 milyutinskaya\n",
      "Processing Record 38 of set 4 banda aceh\n",
      "Processing Record 39 of set 4 staryy nadym\n",
      "Processing Record 40 of set 4 cherskiy\n",
      "Processing Record 41 of set 4 tuktoyaktuk\n",
      "Processing Record 42 of set 4 kastamonu\n",
      "Processing Record 43 of set 4 ushtobe\n",
      "Processing Record 44 of set 4 nikolskiy\n",
      "Processing Record 45 of set 4 victoria\n",
      "Processing Record 46 of set 4 sobolevo\n",
      "Processing Record 47 of set 4 basco\n",
      "Processing Record 48 of set 4 paamiut\n",
      "Processing Record 49 of set 4 tiksi\n"
     ]
    },
    {
     "name": "stdout",
     "output_type": "stream",
     "text": [
      "Processing Record 1 of set 5 bengkulu\n",
      "Processing Record 2 of set 5 saint-augustin\n",
      "Processing Record 3 of set 5 laguna\n",
      "Processing Record 4 of set 5 elban\n",
      "Processing Record 5 of set 5 valparaiso\n",
      "Processing Record 6 of set 5 boende\n",
      "Processing Record 7 of set 5 kharitonovo\n",
      "Processing Record 8 of set 5 salalah\n",
      "Processing Record 9 of set 5 saint george\n",
      "Processing Record 10 of set 5 saint-claude\n",
      "Processing Record 11 of set 5 asau\n",
      "Processing Record 12 of set 5 viedma\n",
      "Processing Record 13 of set 5 narsaq\n",
      "Processing Record 14 of set 5 hasaki\n",
      "Processing Record 15 of set 5 nouadhibou\n",
      "City not found. Skipping...\n",
      "Processing Record 16 of set 5 peniche\n",
      "Processing Record 17 of set 5 faya\n",
      "City not found. Skipping...\n",
      "Processing Record 18 of set 5 mnogovershinnyy\n",
      "Processing Record 19 of set 5 kotovo\n",
      "Processing Record 20 of set 5 bassila\n",
      "Processing Record 21 of set 5 suez\n",
      "Processing Record 22 of set 5 durango\n",
      "Processing Record 23 of set 5 beringovskiy\n",
      "Processing Record 24 of set 5 ouadda\n",
      "Processing Record 25 of set 5 balakhta\n",
      "Processing Record 26 of set 5 magadan\n",
      "Processing Record 27 of set 5 steger\n",
      "Processing Record 28 of set 5 ostrovnoy\n",
      "Processing Record 29 of set 5 san matias\n",
      "Processing Record 30 of set 5 riyadh\n",
      "Processing Record 31 of set 5 hovd\n",
      "Processing Record 32 of set 5 hualmay\n",
      "Processing Record 33 of set 5 vostok\n",
      "Processing Record 34 of set 5 rio brilhante\n",
      "City not found. Skipping...\n",
      "Processing Record 35 of set 5 saint-philippe\n",
      "Processing Record 36 of set 5 san quintin\n",
      "Processing Record 37 of set 5 coahuayana\n",
      "Processing Record 38 of set 5 dingle\n",
      "Processing Record 39 of set 5 ranchuelo\n",
      "Processing Record 40 of set 5 mitsamiouli\n",
      "City not found. Skipping...\n",
      "Processing Record 41 of set 5 diffa\n",
      "Processing Record 42 of set 5 soyo\n",
      "Processing Record 43 of set 5 meulaboh\n",
      "Processing Record 44 of set 5 tigzirt\n",
      "Processing Record 45 of set 5 puerto baquerizo moreno\n",
      "City not found. Skipping...\n",
      "Processing Record 46 of set 5 leshukonskoye\n",
      "Processing Record 47 of set 5 nikolayevsk-na-amure\n",
      "Processing Record 48 of set 5 uyemskiy\n",
      "Processing Record 49 of set 5 suicheng\n",
      "Processing Record 1 of set 6 fortuna\n",
      "Processing Record 2 of set 6 hofn\n",
      "Processing Record 3 of set 6 sinnamary\n",
      "Processing Record 4 of set 6 gumdag\n",
      "Processing Record 5 of set 6 bathsheba\n",
      "Processing Record 6 of set 6 khatanga\n",
      "Processing Record 7 of set 6 watsa\n",
      "Processing Record 8 of set 6 komsomolskiy\n",
      "City not found. Skipping...\n",
      "City not found. Skipping...\n",
      "Processing Record 9 of set 6 cap malheureux\n",
      "Processing Record 10 of set 6 yenangyaung\n",
      "Processing Record 11 of set 6 chokurdakh\n",
      "Processing Record 12 of set 6 sao felix do xingu\n",
      "Processing Record 13 of set 6 dudinka\n",
      "Processing Record 14 of set 6 alta floresta\n",
      "Processing Record 15 of set 6 anadyr\n",
      "Processing Record 16 of set 6 westport\n",
      "Processing Record 17 of set 6 nanortalik\n",
      "Processing Record 18 of set 6 cedar city\n",
      "Processing Record 19 of set 6 galle\n",
      "Processing Record 20 of set 6 turmalina\n",
      "Processing Record 21 of set 6 holme\n",
      "Processing Record 22 of set 6 mago\n",
      "Processing Record 23 of set 6 chik ballapur\n",
      "Processing Record 24 of set 6 ganzhou\n",
      "Processing Record 25 of set 6 naifaru\n",
      "Processing Record 26 of set 6 azogues\n",
      "Processing Record 27 of set 6 aguimes\n",
      "Processing Record 28 of set 6 pevek\n",
      "Processing Record 29 of set 6 areosa\n",
      "Processing Record 30 of set 6 karratha\n",
      "Processing Record 31 of set 6 luanda\n",
      "Processing Record 32 of set 6 kurilsk\n",
      "Processing Record 33 of set 6 aden\n",
      "Processing Record 34 of set 6 chegem\n",
      "Processing Record 35 of set 6 borogontsy\n",
      "Processing Record 36 of set 6 shu\n",
      "Processing Record 37 of set 6 celestun\n",
      "Processing Record 38 of set 6 gashua\n",
      "Processing Record 39 of set 6 grand gaube\n",
      "Processing Record 40 of set 6 kaitangata\n",
      "Processing Record 41 of set 6 hami\n",
      "Processing Record 42 of set 6 marsta\n",
      "Processing Record 43 of set 6 kawalu\n",
      "Processing Record 44 of set 6 gamba\n",
      "Processing Record 45 of set 6 sept-iles\n",
      "Processing Record 46 of set 6 kasongo-lunda\n",
      "City not found. Skipping...\n",
      "Processing Record 47 of set 6 gelemso\n",
      "Processing Record 48 of set 6 tynda\n",
      "City not found. Skipping...\n",
      "Processing Record 49 of set 6 oistins\n",
      "Processing Record 1 of set 7 huarmey\n",
      "Processing Record 2 of set 7 zhigansk\n",
      "City not found. Skipping...\n",
      "Processing Record 3 of set 7 lavrentiya\n",
      "City not found. Skipping...\n",
      "Processing Record 4 of set 7 altona\n",
      "Processing Record 5 of set 7 alofi\n",
      "Processing Record 6 of set 7 beyneu\n",
      "Processing Record 7 of set 7 san rafael\n",
      "Processing Record 8 of set 7 sioux lookout\n",
      "Processing Record 9 of set 7 lingyuan\n",
      "Processing Record 10 of set 7 valdivia\n",
      "Processing Record 11 of set 7 mehran\n",
      "Processing Record 12 of set 7 yerbogachen\n",
      "Processing Record 13 of set 7 ginir\n",
      "City not found. Skipping...\n",
      "Processing Record 14 of set 7 san cristobal\n",
      "Processing Record 15 of set 7 cabrero\n",
      "Processing Record 16 of set 7 kamenka\n",
      "Processing Record 17 of set 7 sabang\n",
      "Processing Record 18 of set 7 kommunisticheskiy\n",
      "Processing Record 19 of set 7 santa ana\n",
      "Processing Record 20 of set 7 alice springs\n",
      "Processing Record 21 of set 7 luderitz\n",
      "City not found. Skipping...\n",
      "City not found. Skipping...\n",
      "Processing Record 22 of set 7 zinapecuaro\n",
      "Processing Record 23 of set 7 kavieng\n",
      "City not found. Skipping...\n",
      "City not found. Skipping...\n",
      "Processing Record 24 of set 7 bembereke\n",
      "Processing Record 25 of set 7 sciacca\n",
      "City not found. Skipping...\n",
      "Processing Record 26 of set 7 airai\n",
      "Processing Record 27 of set 7 kahului\n",
      "City not found. Skipping...\n",
      "Processing Record 28 of set 7 dongning\n",
      "Processing Record 29 of set 7 port-gentil\n",
      "City not found. Skipping...\n",
      "Processing Record 30 of set 7 shitanjing\n",
      "Processing Record 31 of set 7 meadow lake\n",
      "Processing Record 32 of set 7 malyye derbety\n",
      "Processing Record 33 of set 7 teeli\n",
      "Processing Record 34 of set 7 bud\n",
      "Processing Record 35 of set 7 broome\n",
      "Processing Record 36 of set 7 tezu\n",
      "Processing Record 37 of set 7 la asuncion\n",
      "Processing Record 38 of set 7 portland\n",
      "Processing Record 39 of set 7 angoche\n",
      "Processing Record 40 of set 7 marovoay\n",
      "Processing Record 41 of set 7 dvinskoy\n",
      "Processing Record 42 of set 7 skjervoy\n",
      "Processing Record 43 of set 7 roebourne\n",
      "Processing Record 44 of set 7 kaka\n",
      "Processing Record 45 of set 7 palana\n",
      "Processing Record 46 of set 7 blythe\n",
      "Processing Record 47 of set 7 fort-shevchenko\n",
      "Processing Record 48 of set 7 iwanai\n",
      "Processing Record 49 of set 7 raga\n",
      "Processing Record 1 of set 8 ambatondrazaka\n",
      "Processing Record 2 of set 8 portel\n",
      "Processing Record 3 of set 8 bonthe\n",
      "Processing Record 4 of set 8 ketchikan\n",
      "Processing Record 5 of set 8 caravelas\n",
      "Processing Record 6 of set 8 mwinilunga\n",
      "Processing Record 7 of set 8 dedza\n",
      "Processing Record 8 of set 8 hambantota\n",
      "Processing Record 9 of set 8 zaza del medio\n",
      "Processing Record 10 of set 8 khatassy\n",
      "Processing Record 11 of set 8 tufanganj\n",
      "Processing Record 12 of set 8 kabare\n",
      "Processing Record 13 of set 8 pravokumskoye\n",
      "Processing Record 14 of set 8 chimoio\n",
      "Processing Record 15 of set 8 deputatskiy\n",
      "Processing Record 16 of set 8 nantucket\n",
      "Processing Record 17 of set 8 iqaluit\n",
      "Processing Record 18 of set 8 lasa\n",
      "Processing Record 19 of set 8 rabo de peixe\n",
      "Processing Record 20 of set 8 avera\n",
      "Processing Record 21 of set 8 bintulu\n",
      "Processing Record 22 of set 8 naze\n",
      "Processing Record 23 of set 8 wagga wagga\n",
      "Processing Record 24 of set 8 wilkie\n",
      "Processing Record 25 of set 8 palembang\n",
      "Processing Record 26 of set 8 makakilo city\n",
      "Processing Record 27 of set 8 ajdabiya\n",
      "Processing Record 28 of set 8 harer\n",
      "City not found. Skipping...\n",
      "Processing Record 29 of set 8 arman\n",
      "Processing Record 30 of set 8 iskateley\n",
      "Processing Record 31 of set 8 esperance\n",
      "Processing Record 32 of set 8 lengshuijiang\n",
      "Processing Record 33 of set 8 blackwater\n",
      "Processing Record 34 of set 8 la tuque\n",
      "Processing Record 35 of set 8 tabas\n",
      "Processing Record 36 of set 8 khandyga\n",
      "Processing Record 37 of set 8 kambove\n",
      "Processing Record 38 of set 8 puerto quijarro\n",
      "Processing Record 39 of set 8 toktogul\n",
      "Processing Record 40 of set 8 yar-sale\n",
      "Processing Record 41 of set 8 keti bandar\n",
      "Processing Record 42 of set 8 bulungu\n",
      "Processing Record 43 of set 8 beloha\n",
      "Processing Record 44 of set 8 byron bay\n",
      "City not found. Skipping...\n",
      "Processing Record 45 of set 8 temirgoyevskaya\n",
      "Processing Record 46 of set 8 vung tau\n",
      "Processing Record 47 of set 8 milkovo\n",
      "Processing Record 48 of set 8 eyrarbakki\n"
     ]
    },
    {
     "name": "stdout",
     "output_type": "stream",
     "text": [
      "Processing Record 49 of set 8 palauig\n",
      "Processing Record 1 of set 9 fereydun kenar\n",
      "City not found. Skipping...\n",
      "Processing Record 2 of set 9 jhawarian\n",
      "Processing Record 3 of set 9 inhambane\n",
      "Processing Record 4 of set 9 jacareacanga\n",
      "Processing Record 5 of set 9 souillac\n",
      "Processing Record 6 of set 9 iracoubo\n",
      "Processing Record 7 of set 9 mission\n",
      "Processing Record 8 of set 9 vardo\n",
      "Processing Record 9 of set 9 leningradskiy\n",
      "Processing Record 10 of set 9 vao\n",
      "Processing Record 11 of set 9 kaohsiung\n",
      "Processing Record 12 of set 9 domoni\n",
      "Processing Record 13 of set 9 arlit\n",
      "Processing Record 14 of set 9 najran\n",
      "Processing Record 15 of set 9 presidencia roque saenz pena\n",
      "City not found. Skipping...\n",
      "Processing Record 16 of set 9 tucurui\n",
      "Processing Record 17 of set 9 te anau\n",
      "Processing Record 18 of set 9 oum hadjer\n",
      "Processing Record 19 of set 9 wembley\n",
      "Processing Record 20 of set 9 clyde river\n",
      "Processing Record 21 of set 9 soverato\n",
      "Processing Record 22 of set 9 berlevag\n",
      "Processing Record 23 of set 9 balkhash\n",
      "Processing Record 24 of set 9 port-cartier\n",
      "Processing Record 25 of set 9 barra patuca\n",
      "Processing Record 26 of set 9 leh\n",
      "Processing Record 27 of set 9 twentynine palms\n",
      "Processing Record 28 of set 9 oranjemund\n",
      "Processing Record 29 of set 9 coquimbo\n",
      "Processing Record 30 of set 9 lata\n",
      "Processing Record 31 of set 9 kovdor\n",
      "Processing Record 32 of set 9 mayo\n",
      "Processing Record 33 of set 9 huimanguillo\n",
      "City not found. Skipping...\n",
      "Processing Record 34 of set 9 lensk\n",
      "Processing Record 35 of set 9 los llanos de aridane\n",
      "Processing Record 36 of set 9 hobyo\n",
      "Processing Record 37 of set 9 ustka\n",
      "Processing Record 38 of set 9 swan river\n",
      "Processing Record 39 of set 9 qinhuangdao\n",
      "Processing Record 40 of set 9 maldonado\n",
      "Processing Record 41 of set 9 seoul\n",
      "Processing Record 42 of set 9 monroe\n",
      "Processing Record 43 of set 9 lardos\n",
      "Processing Record 44 of set 9 hemet\n",
      "Processing Record 45 of set 9 glens falls\n",
      "Processing Record 46 of set 9 den helder\n",
      "Processing Record 47 of set 9 beira\n",
      "City not found. Skipping...\n",
      "Processing Record 48 of set 9 ust-koksa\n",
      "Processing Record 49 of set 9 san ramon de la nueva oran\n",
      "Processing Record 1 of set 10 tongchuan\n",
      "Processing Record 2 of set 10 tambovka\n",
      "Processing Record 3 of set 10 bacungan\n",
      "Processing Record 4 of set 10 timra\n",
      "Processing Record 5 of set 10 eureka\n",
      "Processing Record 6 of set 10 talaya\n",
      "City not found. Skipping...\n",
      "Processing Record 7 of set 10 kirovskiy\n",
      "Processing Record 8 of set 10 saint-pierre\n",
      "City not found. Skipping...\n",
      "Processing Record 9 of set 10 san jose\n",
      "Processing Record 10 of set 10 osinki\n",
      "Processing Record 11 of set 10 northam\n",
      "Processing Record 12 of set 10 cairns\n",
      "Processing Record 13 of set 10 bathurst\n",
      "Processing Record 14 of set 10 wukari\n",
      "Processing Record 15 of set 10 kota kinabalu\n",
      "Processing Record 16 of set 10 verkhoyansk\n",
      "Processing Record 17 of set 10 coihaique\n",
      "Processing Record 18 of set 10 tautira\n",
      "Processing Record 19 of set 10 anshun\n",
      "Processing Record 20 of set 10 suba\n",
      "Processing Record 21 of set 10 shingu\n",
      "Processing Record 22 of set 10 sandwick\n",
      "Processing Record 23 of set 10 umm lajj\n",
      "Processing Record 24 of set 10 porto nacional\n",
      "Processing Record 25 of set 10 jambi\n",
      "Processing Record 26 of set 10 ende\n",
      "Processing Record 27 of set 10 gazojak\n",
      "Processing Record 28 of set 10 roald\n",
      "Processing Record 29 of set 10 high level\n",
      "Processing Record 30 of set 10 masalli\n",
      "Processing Record 31 of set 10 mahajanga\n",
      "Processing Record 32 of set 10 coolum beach\n",
      "Processing Record 33 of set 10 nabire\n",
      "Processing Record 34 of set 10 sangod\n",
      "Processing Record 35 of set 10 husavik\n",
      "Processing Record 36 of set 10 fairbanks\n",
      "Processing Record 37 of set 10 xining\n",
      "Processing Record 38 of set 10 honningsvag\n",
      "Processing Record 39 of set 10 faanui\n",
      "Processing Record 40 of set 10 blackfoot\n",
      "Processing Record 41 of set 10 quesnel\n",
      "Processing Record 42 of set 10 vila velha\n",
      "Processing Record 43 of set 10 tessalit\n",
      "Processing Record 44 of set 10 atherton\n",
      "Processing Record 45 of set 10 tiarei\n",
      "Processing Record 46 of set 10 dangara\n",
      "Processing Record 47 of set 10 sarmanovo\n",
      "Processing Record 48 of set 10 jiexiu\n",
      "Processing Record 49 of set 10 samarai\n",
      "Processing Record 1 of set 11 thinadhoo\n",
      "Processing Record 2 of set 11 salamiyah\n",
      "Processing Record 3 of set 11 petropavl\n",
      "Processing Record 4 of set 11 aswan\n",
      "Processing Record 5 of set 11 talnakh\n",
      "Processing Record 6 of set 11 lompoc\n",
      "Processing Record 7 of set 11 matagami\n",
      "Processing Record 8 of set 11 zheleznogorsk-ilimskiy\n",
      "Processing Record 9 of set 11 vogosca\n",
      "Processing Record 10 of set 11 yumen\n",
      "Processing Record 11 of set 11 kamina\n",
      "Processing Record 12 of set 11 el alto\n",
      "Processing Record 13 of set 11 aksu\n",
      "Processing Record 14 of set 11 harper\n",
      "Processing Record 15 of set 11 margate\n",
      "Processing Record 16 of set 11 akyab\n",
      "Processing Record 17 of set 11 bugama\n",
      "Processing Record 18 of set 11 tual\n",
      "Processing Record 19 of set 11 kalmunai\n",
      "Processing Record 20 of set 11 mujiayingzi\n",
      "Processing Record 21 of set 11 ulvik\n",
      "Processing Record 22 of set 11 labuhan\n",
      "Processing Record 23 of set 11 xucheng\n",
      "Processing Record 24 of set 11 aykhal\n",
      "Processing Record 25 of set 11 conde\n",
      "Processing Record 26 of set 11 pacific grove\n",
      "Processing Record 27 of set 11 florida\n",
      "Processing Record 28 of set 11 khorixas\n",
      "Processing Record 29 of set 11 coronini\n",
      "Processing Record 30 of set 11 ulaanbaatar\n",
      "Processing Record 31 of set 11 florianopolis\n",
      "Processing Record 32 of set 11 ballina\n",
      "Processing Record 33 of set 11 enshi\n",
      "Processing Record 34 of set 11 buchanan\n",
      "Processing Record 35 of set 11 korla\n",
      "Processing Record 36 of set 11 ugoofaaru\n",
      "City not found. Skipping...\n",
      "Processing Record 37 of set 11 biograd na moru\n",
      "Processing Record 38 of set 11 klaksvik\n",
      "Processing Record 39 of set 11 ixtapa\n",
      "City not found. Skipping...\n",
      "Processing Record 40 of set 11 snasa\n",
      "Processing Record 41 of set 11 ballangen\n",
      "Processing Record 42 of set 11 nueva loja\n",
      "Processing Record 43 of set 11 jalu\n",
      "Processing Record 44 of set 11 curitibanos\n",
      "Processing Record 45 of set 11 amboasary\n",
      "Processing Record 46 of set 11 sapa\n",
      "City not found. Skipping...\n",
      "Processing Record 47 of set 11 gobabis\n",
      "Processing Record 48 of set 11 meiktila\n",
      "Processing Record 49 of set 11 kiunga\n",
      "Processing Record 1 of set 12 kuala lipis\n",
      "Processing Record 2 of set 12 dhamtari\n",
      "City not found. Skipping...\n",
      "Processing Record 3 of set 12 abeokuta\n",
      "Processing Record 4 of set 12 pitelino\n",
      "Processing Record 5 of set 12 abnub\n",
      "Processing Record 6 of set 12 cochrane\n",
      "Processing Record 7 of set 12 ilhabela\n",
      "Processing Record 8 of set 12 lazo\n",
      "Processing Record 9 of set 12 raudeberg\n",
      "Processing Record 10 of set 12 ormara\n",
      "Processing Record 11 of set 12 zhezkazgan\n",
      "Processing Record 12 of set 12 dmitriyevka\n",
      "Processing Record 13 of set 12 panalingaan\n",
      "Processing Record 14 of set 12 pontes e lacerda\n",
      "Processing Record 15 of set 12 clarence town\n",
      "Processing Record 16 of set 12 guane\n",
      "Processing Record 17 of set 12 port macquarie\n",
      "Processing Record 18 of set 12 amga\n",
      "Processing Record 19 of set 12 codrington\n",
      "Processing Record 20 of set 12 noumea\n",
      "Processing Record 21 of set 12 nadym\n",
      "Processing Record 22 of set 12 iskilip\n",
      "Processing Record 23 of set 12 north platte\n"
     ]
    },
    {
     "ename": "KeyboardInterrupt",
     "evalue": "",
     "output_type": "error",
     "traceback": [
      "\u001b[1;31m---------------------------------------------------------------------------\u001b[0m",
      "\u001b[1;31mKeyboardInterrupt\u001b[0m                         Traceback (most recent call last)",
      "\u001b[1;32m<ipython-input-33-7bfa5f43371c>\u001b[0m in \u001b[0;36m<module>\u001b[1;34m\u001b[0m\n\u001b[0;32m     41\u001b[0m         \u001b[0mprint\u001b[0m\u001b[1;33m(\u001b[0m\u001b[1;34mf\"Processing Record {record} of set {sets} {city}\"\u001b[0m\u001b[1;33m)\u001b[0m\u001b[1;33m\u001b[0m\u001b[1;33m\u001b[0m\u001b[0m\n\u001b[0;32m     42\u001b[0m         \u001b[0mrecord\u001b[0m \u001b[1;33m=\u001b[0m \u001b[0mrecord\u001b[0m \u001b[1;33m+\u001b[0m \u001b[1;36m1\u001b[0m\u001b[1;33m\u001b[0m\u001b[1;33m\u001b[0m\u001b[0m\n\u001b[1;32m---> 43\u001b[1;33m         \u001b[0mtime\u001b[0m\u001b[1;33m.\u001b[0m\u001b[0msleep\u001b[0m\u001b[1;33m(\u001b[0m\u001b[1;36m1\u001b[0m\u001b[1;33m)\u001b[0m\u001b[1;33m\u001b[0m\u001b[1;33m\u001b[0m\u001b[0m\n\u001b[0m\u001b[0;32m     44\u001b[0m     \u001b[1;32mexcept\u001b[0m \u001b[0mKeyError\u001b[0m\u001b[1;33m:\u001b[0m\u001b[1;33m\u001b[0m\u001b[1;33m\u001b[0m\u001b[0m\n\u001b[0;32m     45\u001b[0m         \u001b[0mprint\u001b[0m\u001b[1;33m(\u001b[0m\u001b[1;34m\"City not found. Skipping...\"\u001b[0m\u001b[1;33m)\u001b[0m\u001b[1;33m\u001b[0m\u001b[1;33m\u001b[0m\u001b[0m\n",
      "\u001b[1;31mKeyboardInterrupt\u001b[0m: "
     ]
    }
   ],
   "source": [
    "#Commented out to prevent rerunning the kernel\n",
    "\n",
    "# Create weather url\n",
    "\n",
    "#Reference activity day 2 activity\n",
    "\n",
    "#Create lists to store values\n",
    "\n",
    "# city_name = []\n",
    "# lat = []\n",
    "# lng = []\n",
    "# max_temp = []\n",
    "# humidity = []\n",
    "# cloudiness = []\n",
    "# wind_speed = []\n",
    "# country = []\n",
    "# date = []\n",
    "# record = 0\n",
    "# sets = 1\n",
    "\n",
    "# weather_url = \"http://api.openweathermap.org/data/2.5/weather?\"\n",
    "\n",
    "# weather_query_url = weather_url + \"appid=\" + weather_api_key + \"&q=\"\n",
    "\n",
    "# print(\"Beginning Data Retrieval\")     \n",
    "# print(\"-----------------------------\")\n",
    "\n",
    "# for city in cities:\n",
    "#     try:\n",
    "#         weather_response = requests.get(weather_query_url + city).json()\n",
    "#         city_name.append(weather_response['name'])\n",
    "#         lat.append(weather_response['coord']['lat'])\n",
    "#         lng.append(weather_response['coord']['lon'])\n",
    "#         max_temp.append(weather_response['main']['temp_max'])\n",
    "#         humidity.append(weather_response['main']['humidity'])\n",
    "#         cloudiness.append(weather_response['clouds']['all'])\n",
    "#         wind_speed.append(weather_response['wind']['speed'])\n",
    "#         country.append(weather_response['sys']['country'])\n",
    "#         date.append(weather_response['dt'])\n",
    "#         if record > 49:\n",
    "#             sets = sets + 1\n",
    "#             record = 1\n",
    "#         print(f\"Processing Record {record} of set {sets} {city}\")\n",
    "#         record = record + 1\n",
    "#         time.sleep(1)\n",
    "#     except KeyError:\n",
    "#         print(\"City not found. Skipping...\")\n",
    "    "
   ]
  },
  {
   "cell_type": "markdown",
   "metadata": {},
   "source": [
    "### Convert Raw Data to DataFrame\n",
    "* Export the city data into a .csv.\n",
    "* Display the DataFrame"
   ]
  },
  {
   "cell_type": "code",
   "execution_count": 48,
   "metadata": {},
   "outputs": [
    {
     "data": {
      "text/html": [
       "<div>\n",
       "<style scoped>\n",
       "    .dataframe tbody tr th:only-of-type {\n",
       "        vertical-align: middle;\n",
       "    }\n",
       "\n",
       "    .dataframe tbody tr th {\n",
       "        vertical-align: top;\n",
       "    }\n",
       "\n",
       "    .dataframe thead th {\n",
       "        text-align: right;\n",
       "    }\n",
       "</style>\n",
       "<table border=\"1\" class=\"dataframe\">\n",
       "  <thead>\n",
       "    <tr style=\"text-align: right;\">\n",
       "      <th></th>\n",
       "      <th>City</th>\n",
       "      <th>Lat</th>\n",
       "      <th>Lng</th>\n",
       "      <th>Max Temp</th>\n",
       "      <th>Humidity</th>\n",
       "      <th>Cloudiness</th>\n",
       "      <th>Wind Speed</th>\n",
       "      <th>Date</th>\n",
       "    </tr>\n",
       "  </thead>\n",
       "  <tbody>\n",
       "    <tr>\n",
       "      <th>0</th>\n",
       "      <td>Pitsunda</td>\n",
       "      <td>43.16</td>\n",
       "      <td>40.34</td>\n",
       "      <td>293.71</td>\n",
       "      <td>77</td>\n",
       "      <td>0</td>\n",
       "      <td>5.0</td>\n",
       "      <td>1602546135</td>\n",
       "    </tr>\n",
       "    <tr>\n",
       "      <th>1</th>\n",
       "      <td>Nikolskoye</td>\n",
       "      <td>59.70</td>\n",
       "      <td>30.79</td>\n",
       "      <td>282.04</td>\n",
       "      <td>93</td>\n",
       "      <td>20</td>\n",
       "      <td>2.0</td>\n",
       "      <td>1602546136</td>\n",
       "    </tr>\n",
       "    <tr>\n",
       "      <th>2</th>\n",
       "      <td>Ushuaia</td>\n",
       "      <td>-54.80</td>\n",
       "      <td>-68.30</td>\n",
       "      <td>280.15</td>\n",
       "      <td>75</td>\n",
       "      <td>90</td>\n",
       "      <td>2.1</td>\n",
       "      <td>1602546001</td>\n",
       "    </tr>\n",
       "    <tr>\n",
       "      <th>3</th>\n",
       "      <td>Bethel</td>\n",
       "      <td>41.37</td>\n",
       "      <td>-73.41</td>\n",
       "      <td>285.15</td>\n",
       "      <td>76</td>\n",
       "      <td>90</td>\n",
       "      <td>5.1</td>\n",
       "      <td>1602546138</td>\n",
       "    </tr>\n",
       "    <tr>\n",
       "      <th>4</th>\n",
       "      <td>Mar del Plata</td>\n",
       "      <td>-38.00</td>\n",
       "      <td>-57.56</td>\n",
       "      <td>283.71</td>\n",
       "      <td>87</td>\n",
       "      <td>0</td>\n",
       "      <td>2.1</td>\n",
       "      <td>1602546052</td>\n",
       "    </tr>\n",
       "  </tbody>\n",
       "</table>\n",
       "</div>"
      ],
      "text/plain": [
       "            City    Lat    Lng  Max Temp  Humidity  Cloudiness  Wind Speed  \\\n",
       "0       Pitsunda  43.16  40.34    293.71        77           0         5.0   \n",
       "1     Nikolskoye  59.70  30.79    282.04        93          20         2.0   \n",
       "2        Ushuaia -54.80 -68.30    280.15        75          90         2.1   \n",
       "3         Bethel  41.37 -73.41    285.15        76          90         5.1   \n",
       "4  Mar del Plata -38.00 -57.56    283.71        87           0         2.1   \n",
       "\n",
       "         Date  \n",
       "0  1602546135  \n",
       "1  1602546136  \n",
       "2  1602546001  \n",
       "3  1602546138  \n",
       "4  1602546052  "
      ]
     },
     "execution_count": 48,
     "metadata": {},
     "output_type": "execute_result"
    }
   ],
   "source": [
    "output_path = \"../output_data/city_weather.csv\"\n",
    "\n",
    "cities_df = pd.DataFrame({\"City\": city_name,\n",
    "                         \"Lat\": lat,\n",
    "                         \"Lng\": lng,\n",
    "                         \"Max Temp\": max_temp,\n",
    "                         \"Humidity\": humidity,\n",
    "                         \"Cloudiness\": cloudiness,\n",
    "                         \"Wind Speed\": wind_speed,\n",
    "                         \"Date\": date})\n",
    "#store dataframe as csv\n",
    "\n",
    "cities_df.to_csv(r'C:\\Users\\Dan\\gitrepo\\python-api-challenge\\WeatherPy\\output_data\\city_weather.csv', sep=',', index=False)\n",
    "\n",
    "#print preview of csv file\n",
    "\n",
    "cities_df.head()"
   ]
  },
  {
   "cell_type": "code",
   "execution_count": 44,
   "metadata": {},
   "outputs": [
    {
     "data": {
      "text/html": [
       "<div>\n",
       "<style scoped>\n",
       "    .dataframe tbody tr th:only-of-type {\n",
       "        vertical-align: middle;\n",
       "    }\n",
       "\n",
       "    .dataframe tbody tr th {\n",
       "        vertical-align: top;\n",
       "    }\n",
       "\n",
       "    .dataframe thead th {\n",
       "        text-align: right;\n",
       "    }\n",
       "</style>\n",
       "<table border=\"1\" class=\"dataframe\">\n",
       "  <thead>\n",
       "    <tr style=\"text-align: right;\">\n",
       "      <th></th>\n",
       "      <th>Lat</th>\n",
       "      <th>Lng</th>\n",
       "      <th>Max Temp</th>\n",
       "      <th>Humidity</th>\n",
       "      <th>Cloudiness</th>\n",
       "      <th>Wind Speed</th>\n",
       "      <th>Date</th>\n",
       "    </tr>\n",
       "  </thead>\n",
       "  <tbody>\n",
       "    <tr>\n",
       "      <th>count</th>\n",
       "      <td>563.000000</td>\n",
       "      <td>563.000000</td>\n",
       "      <td>563.000000</td>\n",
       "      <td>563.000000</td>\n",
       "      <td>563.000000</td>\n",
       "      <td>563.000000</td>\n",
       "      <td>5.630000e+02</td>\n",
       "    </tr>\n",
       "    <tr>\n",
       "      <th>mean</th>\n",
       "      <td>21.250249</td>\n",
       "      <td>22.848899</td>\n",
       "      <td>289.284849</td>\n",
       "      <td>72.420959</td>\n",
       "      <td>51.170515</td>\n",
       "      <td>3.445275</td>\n",
       "      <td>1.602546e+09</td>\n",
       "    </tr>\n",
       "    <tr>\n",
       "      <th>std</th>\n",
       "      <td>33.296596</td>\n",
       "      <td>89.056310</td>\n",
       "      <td>10.299325</td>\n",
       "      <td>21.172282</td>\n",
       "      <td>37.713134</td>\n",
       "      <td>2.419753</td>\n",
       "      <td>2.028124e+02</td>\n",
       "    </tr>\n",
       "    <tr>\n",
       "      <th>min</th>\n",
       "      <td>-54.800000</td>\n",
       "      <td>-175.200000</td>\n",
       "      <td>258.150000</td>\n",
       "      <td>6.000000</td>\n",
       "      <td>0.000000</td>\n",
       "      <td>0.040000</td>\n",
       "      <td>1.602546e+09</td>\n",
       "    </tr>\n",
       "    <tr>\n",
       "      <th>25%</th>\n",
       "      <td>-6.280000</td>\n",
       "      <td>-55.530000</td>\n",
       "      <td>282.015000</td>\n",
       "      <td>62.000000</td>\n",
       "      <td>11.500000</td>\n",
       "      <td>1.535000</td>\n",
       "      <td>1.602546e+09</td>\n",
       "    </tr>\n",
       "    <tr>\n",
       "      <th>50%</th>\n",
       "      <td>26.320000</td>\n",
       "      <td>29.090000</td>\n",
       "      <td>290.470000</td>\n",
       "      <td>78.000000</td>\n",
       "      <td>49.000000</td>\n",
       "      <td>2.830000</td>\n",
       "      <td>1.602546e+09</td>\n",
       "    </tr>\n",
       "    <tr>\n",
       "      <th>75%</th>\n",
       "      <td>49.190000</td>\n",
       "      <td>101.910000</td>\n",
       "      <td>298.045000</td>\n",
       "      <td>88.000000</td>\n",
       "      <td>90.000000</td>\n",
       "      <td>4.630000</td>\n",
       "      <td>1.602547e+09</td>\n",
       "    </tr>\n",
       "    <tr>\n",
       "      <th>max</th>\n",
       "      <td>78.220000</td>\n",
       "      <td>179.320000</td>\n",
       "      <td>311.150000</td>\n",
       "      <td>100.000000</td>\n",
       "      <td>100.000000</td>\n",
       "      <td>14.880000</td>\n",
       "      <td>1.602547e+09</td>\n",
       "    </tr>\n",
       "  </tbody>\n",
       "</table>\n",
       "</div>"
      ],
      "text/plain": [
       "              Lat         Lng    Max Temp    Humidity  Cloudiness  Wind Speed  \\\n",
       "count  563.000000  563.000000  563.000000  563.000000  563.000000  563.000000   \n",
       "mean    21.250249   22.848899  289.284849   72.420959   51.170515    3.445275   \n",
       "std     33.296596   89.056310   10.299325   21.172282   37.713134    2.419753   \n",
       "min    -54.800000 -175.200000  258.150000    6.000000    0.000000    0.040000   \n",
       "25%     -6.280000  -55.530000  282.015000   62.000000   11.500000    1.535000   \n",
       "50%     26.320000   29.090000  290.470000   78.000000   49.000000    2.830000   \n",
       "75%     49.190000  101.910000  298.045000   88.000000   90.000000    4.630000   \n",
       "max     78.220000  179.320000  311.150000  100.000000  100.000000   14.880000   \n",
       "\n",
       "               Date  \n",
       "count  5.630000e+02  \n",
       "mean   1.602546e+09  \n",
       "std    2.028124e+02  \n",
       "min    1.602546e+09  \n",
       "25%    1.602546e+09  \n",
       "50%    1.602546e+09  \n",
       "75%    1.602547e+09  \n",
       "max    1.602547e+09  "
      ]
     },
     "execution_count": 44,
     "metadata": {},
     "output_type": "execute_result"
    }
   ],
   "source": [
    "#Create summary of the dataframe\n",
    "\n",
    "cities_df.describe()"
   ]
  },
  {
   "cell_type": "markdown",
   "metadata": {},
   "source": [
    "## Inspect the data and remove the cities where the humidity > 100%.\n",
    "----\n",
    "Skip this step if there are no cities that have humidity > 100%. "
   ]
  },
  {
   "cell_type": "code",
   "execution_count": 6,
   "metadata": {},
   "outputs": [
    {
     "data": {
      "text/html": [
       "<div>\n",
       "<style scoped>\n",
       "    .dataframe tbody tr th:only-of-type {\n",
       "        vertical-align: middle;\n",
       "    }\n",
       "\n",
       "    .dataframe tbody tr th {\n",
       "        vertical-align: top;\n",
       "    }\n",
       "\n",
       "    .dataframe thead th {\n",
       "        text-align: right;\n",
       "    }\n",
       "</style>\n",
       "<table border=\"1\" class=\"dataframe\">\n",
       "  <thead>\n",
       "    <tr style=\"text-align: right;\">\n",
       "      <th></th>\n",
       "      <th>Lat</th>\n",
       "      <th>Lng</th>\n",
       "      <th>Max Temp</th>\n",
       "      <th>Humidity</th>\n",
       "      <th>Cloudiness</th>\n",
       "      <th>Wind Speed</th>\n",
       "      <th>Date</th>\n",
       "    </tr>\n",
       "  </thead>\n",
       "  <tbody>\n",
       "    <tr>\n",
       "      <th>count</th>\n",
       "      <td>550.000000</td>\n",
       "      <td>550.000000</td>\n",
       "      <td>550.000000</td>\n",
       "      <td>550.000000</td>\n",
       "      <td>550.000000</td>\n",
       "      <td>550.000000</td>\n",
       "      <td>5.500000e+02</td>\n",
       "    </tr>\n",
       "    <tr>\n",
       "      <th>mean</th>\n",
       "      <td>19.973545</td>\n",
       "      <td>17.124400</td>\n",
       "      <td>58.331400</td>\n",
       "      <td>67.890909</td>\n",
       "      <td>52.141818</td>\n",
       "      <td>8.544800</td>\n",
       "      <td>1.585764e+09</td>\n",
       "    </tr>\n",
       "    <tr>\n",
       "      <th>std</th>\n",
       "      <td>33.284840</td>\n",
       "      <td>91.595451</td>\n",
       "      <td>25.795297</td>\n",
       "      <td>20.864881</td>\n",
       "      <td>35.766469</td>\n",
       "      <td>6.078869</td>\n",
       "      <td>5.539674e+01</td>\n",
       "    </tr>\n",
       "    <tr>\n",
       "      <th>min</th>\n",
       "      <td>-54.800000</td>\n",
       "      <td>-179.170000</td>\n",
       "      <td>-11.340000</td>\n",
       "      <td>9.000000</td>\n",
       "      <td>0.000000</td>\n",
       "      <td>0.160000</td>\n",
       "      <td>1.585764e+09</td>\n",
       "    </tr>\n",
       "    <tr>\n",
       "      <th>25%</th>\n",
       "      <td>-8.077500</td>\n",
       "      <td>-64.627500</td>\n",
       "      <td>42.800000</td>\n",
       "      <td>55.000000</td>\n",
       "      <td>20.000000</td>\n",
       "      <td>4.525000</td>\n",
       "      <td>1.585764e+09</td>\n",
       "    </tr>\n",
       "    <tr>\n",
       "      <th>50%</th>\n",
       "      <td>23.630000</td>\n",
       "      <td>19.635000</td>\n",
       "      <td>64.940000</td>\n",
       "      <td>72.000000</td>\n",
       "      <td>57.000000</td>\n",
       "      <td>7.325000</td>\n",
       "      <td>1.585764e+09</td>\n",
       "    </tr>\n",
       "    <tr>\n",
       "      <th>75%</th>\n",
       "      <td>48.672500</td>\n",
       "      <td>97.350000</td>\n",
       "      <td>78.800000</td>\n",
       "      <td>83.000000</td>\n",
       "      <td>86.750000</td>\n",
       "      <td>11.410000</td>\n",
       "      <td>1.585764e+09</td>\n",
       "    </tr>\n",
       "    <tr>\n",
       "      <th>max</th>\n",
       "      <td>78.220000</td>\n",
       "      <td>179.320000</td>\n",
       "      <td>102.200000</td>\n",
       "      <td>100.000000</td>\n",
       "      <td>100.000000</td>\n",
       "      <td>46.080000</td>\n",
       "      <td>1.585764e+09</td>\n",
       "    </tr>\n",
       "  </tbody>\n",
       "</table>\n",
       "</div>"
      ],
      "text/plain": [
       "              Lat         Lng    Max Temp    Humidity  Cloudiness  Wind Speed  \\\n",
       "count  550.000000  550.000000  550.000000  550.000000  550.000000  550.000000   \n",
       "mean    19.973545   17.124400   58.331400   67.890909   52.141818    8.544800   \n",
       "std     33.284840   91.595451   25.795297   20.864881   35.766469    6.078869   \n",
       "min    -54.800000 -179.170000  -11.340000    9.000000    0.000000    0.160000   \n",
       "25%     -8.077500  -64.627500   42.800000   55.000000   20.000000    4.525000   \n",
       "50%     23.630000   19.635000   64.940000   72.000000   57.000000    7.325000   \n",
       "75%     48.672500   97.350000   78.800000   83.000000   86.750000   11.410000   \n",
       "max     78.220000  179.320000  102.200000  100.000000  100.000000   46.080000   \n",
       "\n",
       "               Date  \n",
       "count  5.500000e+02  \n",
       "mean   1.585764e+09  \n",
       "std    5.539674e+01  \n",
       "min    1.585764e+09  \n",
       "25%    1.585764e+09  \n",
       "50%    1.585764e+09  \n",
       "75%    1.585764e+09  \n",
       "max    1.585764e+09  "
      ]
     },
     "execution_count": 6,
     "metadata": {},
     "output_type": "execute_result"
    }
   ],
   "source": [
    "#No cities with humidity greater then 100--skipping this step"
   ]
  },
  {
   "cell_type": "code",
   "execution_count": 17,
   "metadata": {},
   "outputs": [
    {
     "data": {
      "text/plain": [
       "Int64Index([], dtype='int64')"
      ]
     },
     "execution_count": 17,
     "metadata": {},
     "output_type": "execute_result"
    }
   ],
   "source": [
    "#  Get the indices of cities that have humidity over 100%.\n",
    "\n",
    "#No cities with humidity greater then 100--skipping this step"
   ]
  },
  {
   "cell_type": "code",
   "execution_count": 19,
   "metadata": {},
   "outputs": [
    {
     "data": {
      "text/html": [
       "<div>\n",
       "<style scoped>\n",
       "    .dataframe tbody tr th:only-of-type {\n",
       "        vertical-align: middle;\n",
       "    }\n",
       "\n",
       "    .dataframe tbody tr th {\n",
       "        vertical-align: top;\n",
       "    }\n",
       "\n",
       "    .dataframe thead th {\n",
       "        text-align: right;\n",
       "    }\n",
       "</style>\n",
       "<table border=\"1\" class=\"dataframe\">\n",
       "  <thead>\n",
       "    <tr style=\"text-align: right;\">\n",
       "      <th></th>\n",
       "      <th>City</th>\n",
       "      <th>Lat</th>\n",
       "      <th>Lng</th>\n",
       "      <th>Max Temp</th>\n",
       "      <th>Humidity</th>\n",
       "      <th>Cloudiness</th>\n",
       "      <th>Wind Speed</th>\n",
       "      <th>Country</th>\n",
       "      <th>Date</th>\n",
       "    </tr>\n",
       "  </thead>\n",
       "  <tbody>\n",
       "    <tr>\n",
       "      <td>0</td>\n",
       "      <td>butaritari</td>\n",
       "      <td>3.07</td>\n",
       "      <td>172.79</td>\n",
       "      <td>83.32</td>\n",
       "      <td>74</td>\n",
       "      <td>84</td>\n",
       "      <td>10.42</td>\n",
       "      <td>KI</td>\n",
       "      <td>1593605283</td>\n",
       "    </tr>\n",
       "    <tr>\n",
       "      <td>1</td>\n",
       "      <td>yerbogachen</td>\n",
       "      <td>61.28</td>\n",
       "      <td>108.01</td>\n",
       "      <td>79.52</td>\n",
       "      <td>58</td>\n",
       "      <td>20</td>\n",
       "      <td>7.70</td>\n",
       "      <td>RU</td>\n",
       "      <td>1593605121</td>\n",
       "    </tr>\n",
       "    <tr>\n",
       "      <td>2</td>\n",
       "      <td>cape town</td>\n",
       "      <td>-33.93</td>\n",
       "      <td>18.42</td>\n",
       "      <td>73.00</td>\n",
       "      <td>77</td>\n",
       "      <td>27</td>\n",
       "      <td>4.70</td>\n",
       "      <td>ZA</td>\n",
       "      <td>1593605039</td>\n",
       "    </tr>\n",
       "    <tr>\n",
       "      <td>3</td>\n",
       "      <td>touba</td>\n",
       "      <td>8.28</td>\n",
       "      <td>-7.68</td>\n",
       "      <td>79.97</td>\n",
       "      <td>75</td>\n",
       "      <td>82</td>\n",
       "      <td>3.58</td>\n",
       "      <td>CI</td>\n",
       "      <td>1593605284</td>\n",
       "    </tr>\n",
       "    <tr>\n",
       "      <td>4</td>\n",
       "      <td>jamestown</td>\n",
       "      <td>42.10</td>\n",
       "      <td>-79.24</td>\n",
       "      <td>64.00</td>\n",
       "      <td>88</td>\n",
       "      <td>1</td>\n",
       "      <td>6.93</td>\n",
       "      <td>US</td>\n",
       "      <td>1593605284</td>\n",
       "    </tr>\n",
       "  </tbody>\n",
       "</table>\n",
       "</div>"
      ],
      "text/plain": [
       "          City    Lat     Lng  Max Temp  Humidity  Cloudiness  Wind Speed  \\\n",
       "0   butaritari   3.07  172.79     83.32        74          84       10.42   \n",
       "1  yerbogachen  61.28  108.01     79.52        58          20        7.70   \n",
       "2    cape town -33.93   18.42     73.00        77          27        4.70   \n",
       "3        touba   8.28   -7.68     79.97        75          82        3.58   \n",
       "4    jamestown  42.10  -79.24     64.00        88           1        6.93   \n",
       "\n",
       "  Country        Date  \n",
       "0      KI  1593605283  \n",
       "1      RU  1593605121  \n",
       "2      ZA  1593605039  \n",
       "3      CI  1593605284  \n",
       "4      US  1593605284  "
      ]
     },
     "execution_count": 19,
     "metadata": {},
     "output_type": "execute_result"
    }
   ],
   "source": [
    "# Make a new DataFrame equal to the city data to drop all humidity outliers by index.\n",
    "# Passing \"inplace=False\" will make a copy of the city_data DataFrame, which we call \"clean_city_data\".\n",
    "\n",
    "#No cities with humidity greater then 100--skipping this step"
   ]
  },
  {
   "cell_type": "markdown",
   "metadata": {},
   "source": [
    "## Plotting the Data\n",
    "* Use proper labeling of the plots using plot titles (including date of analysis) and axes labels.\n",
    "* Save the plotted figures as .pngs."
   ]
  },
  {
   "cell_type": "markdown",
   "metadata": {},
   "source": [
    "## Latitude vs. Temperature Plot"
   ]
  },
  {
   "cell_type": "code",
   "execution_count": 70,
   "metadata": {
    "scrolled": true
   },
   "outputs": [
    {
     "data": {
      "image/png": "[encoded data removed]",
      "text/plain": [
       "<Figure size 432x288 with 1 Axes>"
      ]
     },
     "metadata": {},
     "output_type": "display_data"
    }
   ],
   "source": [
    "# Create a Scatter Plot for Latitute vs. max temp\n",
    "\n",
    "sns.set()\n",
    "\n",
    "latitude_values = cities_df['Lat']\n",
    "maxtemp_values = cities_df[\"Max Temp\"]  \n",
    "plt.scatter(latitude_values, maxtemp_values)\n",
    "plt.xlabel('Latitude')\n",
    "plt.ylabel('Max Temperature (F)')\n",
    "plt.title('City Latitude vs. Max Temperature 10/12/20')\n",
    "plt.savefig('lat_v_temp.png')\n",
    "plt.show()"
   ]
  },
  {
   "cell_type": "markdown",
   "metadata": {},
   "source": [
    "## Latitude vs. Humidity Plot"
   ]
  },
  {
   "cell_type": "code",
   "execution_count": 71,
   "metadata": {},
   "outputs": [
    {
     "data": {
      "image/png": "[encoded data removed]",
      "text/plain": [
       "<Figure size 432x288 with 1 Axes>"
      ]
     },
     "metadata": {},
     "output_type": "display_data"
    }
   ],
   "source": [
    "humidity_values = cities_df[\"Humidity\"]\n",
    "plt.scatter(latitude_values, humidity_values)\n",
    "plt.xlabel('Latitude')\n",
    "plt.ylabel('Humidity (%)')\n",
    "plt.title('City Latitude vs. Humidity 10/12/20')\n",
    "plt.savefig('lat_v_humidity.png')\n",
    "plt.show()"
   ]
  },
  {
   "cell_type": "markdown",
   "metadata": {},
   "source": [
    "## Latitude vs. Cloudiness Plot"
   ]
  },
  {
   "cell_type": "code",
   "execution_count": 72,
   "metadata": {},
   "outputs": [
    {
     "data": {
      "image/png": "[encoded data removed]",
      "text/plain": [
       "<Figure size 432x288 with 1 Axes>"
      ]
     },
     "metadata": {},
     "output_type": "display_data"
    }
   ],
   "source": [
    "cloud_values = cities_df[\"Cloudiness\"]\n",
    "plt.scatter(latitude_values, cloud_values)\n",
    "plt.xlabel('Latitude')\n",
    "plt.ylabel('Cloudiness (%)')\n",
    "plt.title('City Latitude vs. Cloudiness 10/12/20')\n",
    "plt.savefig('lat_v_cloudiness.png')\n",
    "plt.show()"
   ]
  },
  {
   "cell_type": "markdown",
   "metadata": {},
   "source": [
    "## Latitude vs. Wind Speed Plot"
   ]
  },
  {
   "cell_type": "code",
   "execution_count": 73,
   "metadata": {},
   "outputs": [
    {
     "data": {
      "image/png": "[encoded data removed]",
      "text/plain": [
       "<Figure size 432x288 with 1 Axes>"
      ]
     },
     "metadata": {},
     "output_type": "display_data"
    }
   ],
   "source": [
    "wind_values = cities_df[\"Wind Speed\"]\n",
    "plt.scatter(latitude_values, wind_values)\n",
    "plt.xlabel('Latitude')\n",
    "plt.ylabel('Wind Speed')\n",
    "plt.title('City Latitude vs. Wind Speed 10/12/20')\n",
    "plt.savefig('lat_v_wind.png')\n",
    "plt.show()"
   ]
  },
  {
   "cell_type": "markdown",
   "metadata": {},
   "source": [
    "## Linear Regression"
   ]
  },
  {
   "cell_type": "markdown",
   "metadata": {},
   "source": [
    "####  Northern Hemisphere - Max Temp vs. Latitude Linear Regression"
   ]
  },
  {
   "cell_type": "code",
   "execution_count": 81,
   "metadata": {},
   "outputs": [
    {
     "name": "stdout",
     "output_type": "stream",
     "text": [
      "The r-value is: 0.7130784524170557\n"
     ]
    },
    {
     "data": {
      "image/png": "[encoded data removed]",
      "text/plain": [
       "<Figure size 432x288 with 1 Axes>"
      ]
     },
     "metadata": {},
     "output_type": "display_data"
    }
   ],
   "source": [
    "nor_lat_values = cities_df['Lat'].loc[(cities_df['Lat'] > 0)]\n",
    "nor_temp_values = cities_df['Max Temp'].loc[(cities_df['Lat'] > 0)]\n",
    "\n",
    "#Create regression line for graph\n",
    "\n",
    "(slope, intercept, rvalue, pvalue, stderr) = stats.linregress(nor_lat_values, nor_temp_values)\n",
    "\n",
    "regress_values = nor_lat_values * slope + intercept\n",
    "line_eq = \"y = \" + str(round(slope,2)) + \"x +\" + str(round(intercept,2))\n",
    "\n",
    "plt.plot(nor_lat_values,regress_values,\"r-\")\n",
    "plt.annotate(line_eq,(10,260),fontsize=15,color=\"red\")\n",
    "\n",
    "print(f\"The r-value is: {rvalue**2}\")\n",
    "\n",
    "#Create scatterplot for northern hemisphere\n",
    "\n",
    "plt.scatter(nor_lat_values, nor_temp_values)\n",
    "plt.xlabel('Latitude')\n",
    "plt.ylabel('Max Temp')\n",
    "#plt.savefig('north_lat_v_temp.png')\n",
    "plt.show()"
   ]
  },
  {
   "cell_type": "markdown",
   "metadata": {},
   "source": [
    "####  Southern Hemisphere - Max Temp vs. Latitude Linear Regression"
   ]
  },
  {
   "cell_type": "code",
   "execution_count": 85,
   "metadata": {},
   "outputs": [
    {
     "name": "stdout",
     "output_type": "stream",
     "text": [
      "The r-value is: 0.42658366116666024\n"
     ]
    },
    {
     "data": {
      "image/png": "[encoded data removed]",
      "text/plain": [
       "<Figure size 432x288 with 1 Axes>"
      ]
     },
     "metadata": {},
     "output_type": "display_data"
    }
   ],
   "source": [
    "so_lat_values = cities_df['Lat'].loc[(cities_df['Lat'] < 0)]\n",
    "so_temp_values = cities_df['Max Temp'].loc[(cities_df['Lat'] < 0)]\n",
    "\n",
    "#Create regression line for graph\n",
    "\n",
    "(slope, intercept, rvalue, pvalue, stderr) = stats.linregress(so_lat_values, so_temp_values)\n",
    "\n",
    "so_regress_values = so_lat_values * slope + intercept\n",
    "so_line_eq = \"y = \" + str(round(slope,2)) + \"x +\" + str(round(intercept,2))\n",
    "\n",
    "plt.plot(so_lat_values,so_regress_values,\"r-\")\n",
    "plt.annotate(so_line_eq,(-20,280),fontsize=15,color=\"red\")\n",
    "\n",
    "print(f\"The r-value is: {rvalue**2}\")\n",
    "\n",
    "plt.scatter(so_lat_values, so_temp_values)\n",
    "plt.xlabel('Latitude')\n",
    "plt.ylabel('Max Temp')\n",
    "#plt.savefig('so_lat_v_temp.png')\n",
    "plt.show()"
   ]
  },
  {
   "cell_type": "markdown",
   "metadata": {},
   "source": [
    "####  Northern Hemisphere - Humidity (%) vs. Latitude Linear Regression"
   ]
  },
  {
   "cell_type": "code",
   "execution_count": 88,
   "metadata": {},
   "outputs": [
    {
     "name": "stdout",
     "output_type": "stream",
     "text": [
      "The r-value is: 0.03916286369565287\n"
     ]
    },
    {
     "data": {
      "image/png": "[encoded data removed]",
      "text/plain": [
       "<Figure size 432x288 with 1 Axes>"
      ]
     },
     "metadata": {},
     "output_type": "display_data"
    }
   ],
   "source": [
    "nor_hum_values = cities_df['Humidity'].loc[(cities_df['Lat'] > 0)]\n",
    "\n",
    "(slope, intercept, rvalue, pvalue, stderr) = stats.linregress(nor_lat_values, nor_hum_values)\n",
    "\n",
    "norhum_regress_values = nor_lat_values * slope + intercept\n",
    "line_eq = \"y = \" + str(round(slope,2)) + \"x +\" + str(round(intercept,2))\n",
    "\n",
    "plt.plot(nor_lat_values,norhum_regress_values,\"r-\")\n",
    "plt.annotate(line_eq,(50,20),fontsize=15,color=\"red\")\n",
    "\n",
    "print(f\"The r-value is: {rvalue**2}\")\n",
    "\n",
    "#Create scatterplot for northern hemisphere\n",
    "\n",
    "plt.scatter(nor_lat_values, nor_hum_values)\n",
    "plt.xlabel('Latitude')\n",
    "plt.ylabel('Humidity (%)')\n",
    "#plt.savefig('north_lat_v_temp.png')\n",
    "plt.show()"
   ]
  },
  {
   "cell_type": "markdown",
   "metadata": {},
   "source": [
    "####  Southern Hemisphere - Humidity (%) vs. Latitude Linear Regression"
   ]
  },
  {
   "cell_type": "code",
   "execution_count": 28,
   "metadata": {},
   "outputs": [
    {
     "name": "stdout",
     "output_type": "stream",
     "text": [
      "The r-value is: 0.014985174297345524\n"
     ]
    },
    {
     "data": {
      "image/png": "[encoded data removed]",
      "text/plain": [
       "<Figure size 432x288 with 1 Axes>"
      ]
     },
     "metadata": {
      "needs_background": "light"
     },
     "output_type": "display_data"
    }
   ],
   "source": [
    "so_hum_values = cities_df['Humidity'].loc[(cities_df['Lat'] < 0)]"
   ]
  },
  {
   "cell_type": "markdown",
   "metadata": {},
   "source": [
    "####  Northern Hemisphere - Cloudiness (%) vs. Latitude Linear Regression"
   ]
  },
  {
   "cell_type": "code",
   "execution_count": 29,
   "metadata": {},
   "outputs": [
    {
     "name": "stdout",
     "output_type": "stream",
     "text": [
      "The r-value is: 0.0020898727664228514\n"
     ]
    },
    {
     "data": {
      "image/png": "[encoded data removed]",
      "text/plain": [
       "<Figure size 432x288 with 1 Axes>"
      ]
     },
     "metadata": {
      "needs_background": "light"
     },
     "output_type": "display_data"
    }
   ],
   "source": []
  },
  {
   "cell_type": "markdown",
   "metadata": {},
   "source": [
    "####  Southern Hemisphere - Cloudiness (%) vs. Latitude Linear Regression"
   ]
  },
  {
   "cell_type": "code",
   "execution_count": 30,
   "metadata": {},
   "outputs": [
    {
     "name": "stdout",
     "output_type": "stream",
     "text": [
      "The r-value is: 0.0035263772085582894\n"
     ]
    },
    {
     "data": {
      "image/png": "[encoded data removed]",
      "text/plain": [
       "<Figure size 432x288 with 1 Axes>"
      ]
     },
     "metadata": {
      "needs_background": "light"
     },
     "output_type": "display_data"
    }
   ],
   "source": []
  },
  {
   "cell_type": "markdown",
   "metadata": {},
   "source": [
    "####  Northern Hemisphere - Wind Speed (mph) vs. Latitude Linear Regression"
   ]
  },
  {
   "cell_type": "code",
   "execution_count": 31,
   "metadata": {},
   "outputs": [
    {
     "name": "stdout",
     "output_type": "stream",
     "text": [
      "The r-value is: 0.04019723576144484\n"
     ]
    },
    {
     "data": {
      "image/png": "[encoded data removed]",
      "text/plain": [
       "<Figure size 432x288 with 1 Axes>"
      ]
     },
     "metadata": {
      "needs_background": "light"
     },
     "output_type": "display_data"
    }
   ],
   "source": []
  },
  {
   "cell_type": "markdown",
   "metadata": {},
   "source": [
    "####  Southern Hemisphere - Wind Speed (mph) vs. Latitude Linear Regression"
   ]
  },
  {
   "cell_type": "code",
   "execution_count": 32,
   "metadata": {},
   "outputs": [
    {
     "name": "stdout",
     "output_type": "stream",
     "text": [
      "The r-value is: 0.017128274759839232\n"
     ]
    },
    {
     "data": {
      "image/png": "[encoded data removed]",
      "text/plain": [
       "<Figure size 432x288 with 1 Axes>"
      ]
     },
     "metadata": {
      "needs_background": "light"
     },
     "output_type": "display_data"
    }
   ],
   "source": []
  },
  {
   "cell_type": "code",
   "execution_count": null,
   "metadata": {},
   "outputs": [],
   "source": []
  }
 ],
 "metadata": {
  "anaconda-cloud": {},
  "kernel_info": {
   "name": "python3"
  },
  "kernelspec": {
   "display_name": "Python 3",
   "language": "python",
   "name": "python3"
  },
  "language_info": {
   "codemirror_mode": {
    "name": "ipython",
    "version": 3
   },
   "file_extension": ".py",
   "mimetype": "text/x-python",
   "name": "python",
   "nbconvert_exporter": "python",
   "pygments_lexer": "ipython3",
   "version": "3.8.3"
  },
  "latex_envs": {
   "LaTeX_envs_menu_present": true,
   "autoclose": false,
   "autocomplete": true,
   "bibliofile": "biblio.bib",
   "cite_by": "apalike",
   "current_citInitial": 1,
   "eqLabelWithNumbers": true,
   "eqNumInitial": 1,
   "hotkeys": {
    "equation": "Ctrl-E",
    "itemize": "Ctrl-I"
   },
   "labels_anchors": false,
   "latex_user_defs": false,
   "report_style_numbering": false,
   "user_envs_cfg": false
  },
  "nteract": {
   "version": "0.12.3"
  }
 },
 "nbformat": 4,
 "nbformat_minor": 2
}
